{
 "cells": [
  {
   "cell_type": "code",
   "execution_count": 1,
   "metadata": {},
   "outputs": [
    {
     "name": "stderr",
     "output_type": "stream",
     "text": [
      "c:\\GIS\\Projektai\\VASA_siuksles\\vasa-open-closed-containers\\venv\\lib\\site-packages\\tqdm\\auto.py:22: TqdmWarning: IProgress not found. Please update jupyter and ipywidgets. See https://ipywidgets.readthedocs.io/en/stable/user_install.html\n",
      "  from .autonotebook import tqdm as notebook_tqdm\n"
     ]
    }
   ],
   "source": [
    "# Importing packages\n",
    "%matplotlib inline\n",
    "import os\n",
    "import yolov5\n",
    "import torch\n",
    "import cv2\n",
    "from IPython.display import Image\n",
    "from matplotlib import pyplot as plt\n",
    "import numpy as np\n",
    "from PIL import Image\n",
    "import yaml\n",
    "import random\n",
    "from pathlib import Path\n",
    "import tensorflow as tf\n",
    "import keras\n",
    "from numpy import asarray\n",
    "import shutil\n",
    "\n",
    "# Adding the paths of the whole directory to the system path\n",
    "import sys\n",
    "sys.path.append(os.path.join(os.getcwd(), '..'))\n",
    "\n",
    "\n",
    "# Masking GPU from the system\n",
    "os.environ[\"CUDA_VISIBLE_DEVICES\"] = \"-1\""
   ]
  },
  {
   "cell_type": "code",
   "execution_count": 2,
   "metadata": {},
   "outputs": [],
   "source": [
    "# Loading the configuration file \n",
    "with open(os.path.join(os.getcwd(), '..', 'configuration.yml'), 'r') as stream:\n",
    "    _conf = yaml.safe_load(stream)"
   ]
  },
  {
   "cell_type": "code",
   "execution_count": 12,
   "metadata": {},
   "outputs": [],
   "source": [
    "def load_models():\n",
    "    \"\"\"\n",
    "    Loads and returns the bbox and the clf models\n",
    "    \"\"\"\n",
    "    # Infering the current file path \n",
    "    current_path = os.getcwd()\n",
    "    \n",
    "    # Reading the configuration file \n",
    "    with open(os.path.join(current_path, '..', 'configuration.yml'), 'r') as stream:\n",
    "        _conf = yaml.safe_load(stream)\n",
    "    \n",
    "    model_bbox_relative = _conf['PREDICTION_MODEL']['model']\n",
    "    model_bbox_path = os.path.join(current_path, '..', model_bbox_relative)\n",
    "\n",
    "    # Loading the model to memory\n",
    "    model_bbox = torch.hub.load('ultralytics/yolov5', 'custom', path=model_bbox_path, force_reload=True)\n",
    "\n",
    "    # Setting the threshold\n",
    "    model_bbox.conf = _conf['PREDICTION_MODEL']['threshold']\n",
    "\n",
    "    # Return the models\n",
    "    return model_bbox"
   ]
  },
  {
   "cell_type": "code",
   "execution_count": 13,
   "metadata": {},
   "outputs": [
    {
     "name": "stderr",
     "output_type": "stream",
     "text": [
      "Downloading: \"https://github.com/ultralytics/yolov5/zipball/master\" to C:\\Users\\rokas.petravicius/.cache\\torch\\hub\\master.zip\n",
      "YOLOv5  2023-3-8 Python-3.9.13 torch-1.13.1+cpu CPU\n",
      "\n",
      "Fusing layers... \n",
      "Model summary: 367 layers, 46113663 parameters, 0 gradients\n",
      "Adding AutoShape... \n"
     ]
    }
   ],
   "source": [
    "model_bbox = load_models()"
   ]
  },
  {
   "cell_type": "code",
   "execution_count": 5,
   "metadata": {},
   "outputs": [],
   "source": [
    "def predict(\n",
    "    image_path: str, \n",
    "    model_bbox: yolov5, \n",
    "    ) -> list:\n",
    "    \"\"\"\n",
    "    The function crops image and classifies to litter/not litter.\n",
    "\n",
    "    Arguments\n",
    "    image_path: str\n",
    "        path to raw image\n",
    "    model_bbox: str\n",
    "        model that predicts the bounding box for a container\n",
    "    model_tidy: str\n",
    "        model that classifies whether a container is tidy or not\n",
    "    conf: dict\n",
    "        configuration file\n",
    "\n",
    "    Outputs:\n",
    "    A list of dictionaries with the following structure: \n",
    "    [\n",
    "        {\n",
    "            'bbox': [x1, y1, x2, y2],\n",
    "            'bbox_score': float,\n",
    "            'tidy_score': float,\n",
    "            'tidy': bool\n",
    "        },\n",
    "        ...\n",
    "    ]\n",
    "    \"\"\"\n",
    "    \n",
    "    # Extracting the bounding boxes coordinates\n",
    "    bboxes = model_bbox(image_path).pandas().xyxy[0]\n",
    "\n",
    "    # Create list from tensors\n",
    "    prediction_list = []\n",
    "    \n",
    "    # Iterate over all bbox    \n",
    "    for _, bbox in bboxes.iterrows():\n",
    "        # Creating an empty dict entry \n",
    "        box_dict = {}\n",
    "\n",
    "        # Get integer values of bbox (ONLY WORKS IF IMAGE HAS ONLY ONE BBOX)\n",
    "        x1 = int(bbox['xmin'])\n",
    "        y1 = int(bbox['ymin'])\n",
    "        x2 = int(bbox['xmax'])\n",
    "        y2 = int(bbox['ymax'])     \n",
    "\n",
    "        # Adding the bbox coords to the dict\n",
    "        box_dict['bbox'] = [x1, y1, x2, y2]\n",
    "\n",
    "        # Adding the confidence of the bbox \n",
    "        box_dict['bbox_score'] = bbox['confidence']\n",
    "        box_dict['class_name'] = bbox['name']\n",
    "\n",
    "\n",
    "\n",
    "        # Adding the dict to the list\n",
    "        prediction_list.append(box_dict)\n",
    "\n",
    "    return prediction_list"
   ]
  },
  {
   "cell_type": "code",
   "execution_count": 6,
   "metadata": {},
   "outputs": [],
   "source": [
    "# Creating the prediction directory \n",
    "prediction_dir = 'predictions'\n",
    "if not os.path.exists(prediction_dir):\n",
    "    os.mkdir(prediction_dir)\n",
    "\n",
    "# Clearing the contents of the directory \n",
    "for file in os.listdir(prediction_dir):\n",
    "    shutil.rmtree(os.path.join(prediction_dir, file))"
   ]
  },
  {
   "cell_type": "code",
   "execution_count": 15,
   "metadata": {},
   "outputs": [
    {
     "name": "stdout",
     "output_type": "stream",
     "text": [
      "Number of predictions: 2\n"
     ]
    }
   ],
   "source": [
    "# Listing the images from the images/ dir \n",
    "image = r'C:\\GIS\\Projektai\\VASA_siuksles\\vasa-open-closed-containers\\images\\DJI_0355_W_0.jpg'\n",
    "\n",
    "# Iterating over the images \n",
    "# Creating a directory in the predictions dir \n",
    "image_name = os.path.split(image)[-1].split('.')[0]\n",
    "image_dir = os.path.join(prediction_dir, image_name)\n",
    "if not os.path.exists(image_dir):\n",
    "    os.mkdir(image_dir)\n",
    "\n",
    "# Reading image with OpenCV\n",
    "img = cv2.imread(image)\n",
    "img = cv2.cvtColor(img, cv2.COLOR_BGR2RGB)\n",
    "\n",
    "# Creating the list with predictions \n",
    "predictions = predict(image, model_bbox=model_bbox)\n",
    "print(f\"Number of predictions: {len(predictions)}\")\n",
    "\n",
    "if len(predictions) > 0:\n",
    "    # Creating first plot for whole image\n",
    "    fig = plt.figure(figsize=(16, 16))\n",
    "    # Get x, y coordinates of bbox from predictions list\n",
    "    i=0\n",
    "    for pred in predictions:\n",
    "        x1 = pred['bbox'][0]\n",
    "        y1 = pred['bbox'][1]\n",
    "        x2 = pred['bbox'][2]\n",
    "        y2 = pred['bbox'][3]\n",
    "        # Drawing rectangle of bbox into the image\n",
    "        img = cv2.rectangle(img, (x1, y1), (x2,y2), color = (255, 0, 0), thickness=2)\n",
    "        cv2.putText(img, f\"{round(pred['bbox_score']*100)}%\", (x1+90, y1-30), cv2.FONT_HERSHEY_SIMPLEX, 0.8, (255,0,0), 2)\n",
    "        cv2.putText(img, f\"{pred['class_name']}\", (x1+90, y1), cv2.FONT_HERSHEY_SIMPLEX, 0.8, (255,0,0), 2)\n",
    "        i+=1\n",
    "    # Ploting image\n",
    "    plt.imshow(img)\n",
    "    plt.axis(\"off\")\n",
    "    plt.savefig(os.path.join(image_dir, 'prediction_bbox.png'))\n",
    "    plt.close()\n",
    "\n",
    "    # # Creating second plot for cropped images\n",
    "    # fig = plt.figure(figsize=(15, 15))\n",
    "    # plt.rcParams.update({'text.color': \"red\",})\n",
    "    # i=0"
   ]
  }
 ],
 "metadata": {
  "kernelspec": {
   "display_name": "venv",
   "language": "python",
   "name": "python3"
  },
  "language_info": {
   "codemirror_mode": {
    "name": "ipython",
    "version": 3
   },
   "file_extension": ".py",
   "mimetype": "text/x-python",
   "name": "python",
   "nbconvert_exporter": "python",
   "pygments_lexer": "ipython3",
   "version": "3.9.13"
  },
  "orig_nbformat": 4
 },
 "nbformat": 4,
 "nbformat_minor": 2
}
