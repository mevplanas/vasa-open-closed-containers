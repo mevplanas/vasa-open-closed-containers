{
 "cells": [
  {
   "cell_type": "code",
   "execution_count": null,
   "metadata": {},
   "outputs": [],
   "source": [
    "# Importing the packages \n",
    "import pandas as pd \n",
    "import os \n",
    "import matplotlib.pyplot as plt\n",
    "from tqdm import tqdm"
   ]
  },
  {
   "cell_type": "code",
   "execution_count": null,
   "metadata": {},
   "outputs": [],
   "source": [
    "# Defining which dir to analyse \n",
    "dir_to_analyse = 'dataset'"
   ]
  },
  {
   "cell_type": "code",
   "execution_count": null,
   "metadata": {},
   "outputs": [],
   "source": [
    "# Defining the directory for the images \n",
    "image_dir = os.path.join(os.getcwd(), '..', 'dataset', 'images', 'temp')\n",
    "label_dir = os.path.join(os.getcwd(), '..', 'dataset', 'labels', 'temp')"
   ]
  },
  {
   "cell_type": "code",
   "execution_count": null,
   "metadata": {},
   "outputs": [],
   "source": [
    "# Defining the class dictionary \n",
    "class_dict = {\n",
    "    '0': 'closed', \n",
    "    '1': 'opened'\n",
    "}"
   ]
  },
  {
   "cell_type": "code",
   "execution_count": null,
   "metadata": {},
   "outputs": [],
   "source": [
    "# Defining a function that given an image path and the coordinate for the label, \n",
    "# it will extract the label from the image and save it in the label directory\n",
    "output_label_dir = os.path.join(os.getcwd(), 'label_inference', dir_to_analyse)\n",
    "if not os.path.exists(output_label_dir):\n",
    "    os.makedirs(output_label_dir)\n",
    "\n",
    "# Creating subdirectories for each class\n",
    "for class_name in class_dict.values():\n",
    "    if not os.path.exists(os.path.join(output_label_dir, class_name)):\n",
    "        os.makedirs(os.path.join(output_label_dir, class_name))\n",
    "\n",
    "def extract_label(image_path: str, label: list, label_index: int):\n",
    "    # Reading the image \n",
    "    image = plt.imread(image_path)\n",
    "\n",
    "    # Getting the image width and height\n",
    "    image_width = image.shape[1]\n",
    "    image_height = image.shape[0]\n",
    "\n",
    "    # Extracting the x, y, width and height of the bounding box\n",
    "    x = label[1]\n",
    "    y = label[2]\n",
    "    width = label[3]\n",
    "    height = label[4]\n",
    "\n",
    "    # Converting to pixel values\n",
    "    x = int(x * image_width)\n",
    "    y = int(y * image_height)\n",
    "    width = int(width * image_width)\n",
    "    height = int(height * image_height)\n",
    "\n",
    "    # Calculating the anchor points\n",
    "    x1 = int(x - width/2)\n",
    "    y1 = int(y - height/2)\n",
    "    x2 = int(x + width/2)\n",
    "    y2 = int(y + height/2)\n",
    "    \n",
    "    # Getting the class name \n",
    "    class_name = class_dict[str(int(label[0]))]\n",
    "\n",
    "    # Extracting the label \n",
    "    label_image = image[y1:y2, x1:x2]\n",
    "\n",
    "    # Defining the output name \n",
    "    output_name = f\"{class_name}_{os.path.basename(image_path).split('.')[0]}_{label_index}.jpg\"\n",
    "\n",
    "    # Saving the label \n",
    "    plt.imsave(os.path.join(output_label_dir, class_name, output_name), label_image)"
   ]
  },
  {
   "cell_type": "code",
   "execution_count": null,
   "metadata": {},
   "outputs": [],
   "source": [
    "# Listing all the images \n",
    "images = os.listdir(image_dir)"
   ]
  },
  {
   "cell_type": "code",
   "execution_count": null,
   "metadata": {},
   "outputs": [],
   "source": [
    "# Listing all the images \n",
    "images = os.listdir(image_dir)\n",
    "\n",
    "# Iterating over the images \n",
    "for image in tqdm(images):\n",
    "    try:\n",
    "        # Reading the label \n",
    "        label = pd.read_csv(os.path.join(label_dir, image.split('.')[0] + '.txt'), sep = ' ', header = None)\n",
    "    except Exception as e:\n",
    "        print(e)\n",
    "        continue\n",
    "\n",
    "    # Iterating over the rows \n",
    "    for index, row in label.iterrows():\n",
    "        # Extracting the label \n",
    "        try:\n",
    "            extract_label(os.path.join(image_dir, image), row.values, index)\n",
    "        except Exception as e: \n",
    "            print(e)"
   ]
  }
 ],
 "metadata": {
  "kernelspec": {
   "display_name": "vasa-env",
   "language": "python",
   "name": "python3"
  },
  "language_info": {
   "codemirror_mode": {
    "name": "ipython",
    "version": 3
   },
   "file_extension": ".py",
   "mimetype": "text/x-python",
   "name": "python",
   "nbconvert_exporter": "python",
   "pygments_lexer": "ipython3",
   "version": "3.9.13"
  },
  "orig_nbformat": 4
 },
 "nbformat": 4,
 "nbformat_minor": 2
}
